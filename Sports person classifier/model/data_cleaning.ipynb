{
 "cells": [
  {
   "cell_type": "code",
   "execution_count": 1,
   "metadata": {},
   "outputs": [],
   "source": [
    "import numpy as np\n",
    "import cv2\n",
    "import matplotlib\n",
    "import warnings\n",
    "import matplotlib.pyplot as plt\n",
    "warnings.filterwarnings('ignore')\n",
    "%matplotlib inline"
   ]
  },
  {
   "cell_type": "code",
   "execution_count": 2,
   "metadata": {},
   "outputs": [],
   "source": [
    "face_cascade = cv2.CascadeClassifier(\"opencv/haarcascades\\haarcascade_frontalface_default.xml\")\n",
    "eye_cascade = cv2.CascadeClassifier(\"opencv/haarcascades\\haarcascade_eye.xml\")"
   ]
  },
  {
   "cell_type": "code",
   "execution_count": 3,
   "metadata": {},
   "outputs": [],
   "source": [
    "def get_cropped_image_for_2_eyes(image_path):\n",
    "    img_main = cv2.imread(image_path)\n",
    "    if img_main is None:\n",
    "        print('Not an image')\n",
    "    else:\n",
    "        try:\n",
    "            gray_img = cv2.cvtColor(img_main, cv2.COLOR_BGR2GRAY)\n",
    "        except UnboundLocalError:\n",
    "            print('Gray image is not available')\n",
    "            return None\n",
    "        else:\n",
    "            faces_gray = face_cascade.detectMultiScale(gray_img, 1.1, 5)\n",
    "            for (x,y,w,h) in faces_gray:\n",
    "                roi_color = img_main[y:y+h, x:x+w]\n",
    "                eyes_gray = eye_cascade.detectMultiScale(gray_img, 1.1, 5)\n",
    "                if len(eyes_gray) >=2:\n",
    "                    return roi_color"
   ]
  },
  {
   "cell_type": "markdown",
   "metadata": {},
   "source": [
    "this function will return only one image. because if u have 2 faces in your image after returning first roi color the loop will stop"
   ]
  },
  {
   "cell_type": "code",
   "execution_count": 4,
   "metadata": {},
   "outputs": [],
   "source": [
    "path_to_data = \"./Datasets/\"\n",
    "path_to_cr_data = \"./Datasets/cropped/\""
   ]
  },
  {
   "cell_type": "code",
   "execution_count": 5,
   "metadata": {},
   "outputs": [],
   "source": [
    "import os\n",
    "player_dirs = []\n",
    "for entry in os.scandir(path_to_data):\n",
    "    if entry.is_dir():\n",
    "        player_dirs.append(entry.path)"
   ]
  },
  {
   "cell_type": "code",
   "execution_count": 6,
   "metadata": {},
   "outputs": [
    {
     "data": {
      "text/plain": [
       "['./Datasets/Christiano Ronaldo',\n",
       " './Datasets/Lewandowski',\n",
       " './Datasets/Lionel Messi',\n",
       " './Datasets/Luca Modric',\n",
       " './Datasets/Neymar jr']"
      ]
     },
     "execution_count": 6,
     "metadata": {},
     "output_type": "execute_result"
    }
   ],
   "source": [
    "player_dirs"
   ]
  },
  {
   "cell_type": "code",
   "execution_count": 7,
   "metadata": {},
   "outputs": [],
   "source": [
    "import shutil\n",
    "\n",
    "if os.path.exists(path_to_cr_data):\n",
    "    shutil.rmtree(path_to_cr_data)\n",
    "os.mkdir(path_to_cr_data)"
   ]
  },
  {
   "cell_type": "code",
   "execution_count": 8,
   "metadata": {},
   "outputs": [
    {
     "name": "stdout",
     "output_type": "stream",
     "text": [
      "Generating cropped images in folder ./Datasets/cropped/Christiano Ronaldo\n",
      "Not an image\n",
      "Generating cropped images in folder ./Datasets/cropped/Lewandowski\n",
      "Not an image\n",
      "Generating cropped images in folder ./Datasets/cropped/Lionel Messi\n",
      "Not an image\n",
      "Not an image\n",
      "Generating cropped images in folder ./Datasets/cropped/Luca Modric\n",
      "Generating cropped images in folder ./Datasets/cropped/Neymar jr\n"
     ]
    }
   ],
   "source": [
    "cropped_img_dirs = []\n",
    "player_name_file = {}\n",
    "\n",
    "for dirs in player_dirs:\n",
    "\n",
    "    count = 1\n",
    "    player_name = dirs.split('/')[-1]\n",
    "    player_name_file[player_name] = []\n",
    "\n",
    "    for image in os.scandir(dirs):\n",
    "\n",
    "        roi_color = get_cropped_image_for_2_eyes(image.path)\n",
    "\n",
    "        if roi_color is not None:\n",
    "            cropped_folder = path_to_cr_data + player_name\n",
    "\n",
    "            if not os.path.exists(cropped_folder):\n",
    "                print('Generating cropped images in folder', cropped_folder)\n",
    "                os.mkdir(cropped_folder)\n",
    "\n",
    "            cropped_img_dirs.append(cropped_folder)\n",
    "\n",
    "            cropped_file_name = player_name + str(count) + \".png\"\n",
    "            cropped_file_path = cropped_folder + \"/\" + cropped_file_name\n",
    "\n",
    "            cv2.imwrite(cropped_file_path, roi_color)\n",
    "            player_name_file[player_name].append(cropped_file_path)\n",
    "            count += 1\n"
   ]
  },
  {
   "cell_type": "code",
   "execution_count": 9,
   "metadata": {},
   "outputs": [
    {
     "data": {
      "text/plain": [
       "{'Christiano Ronaldo': ['./Datasets/cropped/Christiano Ronaldo/Christiano Ronaldo1.png',\n",
       "  './Datasets/cropped/Christiano Ronaldo/Christiano Ronaldo2.png',\n",
       "  './Datasets/cropped/Christiano Ronaldo/Christiano Ronaldo3.png',\n",
       "  './Datasets/cropped/Christiano Ronaldo/Christiano Ronaldo4.png',\n",
       "  './Datasets/cropped/Christiano Ronaldo/Christiano Ronaldo5.png',\n",
       "  './Datasets/cropped/Christiano Ronaldo/Christiano Ronaldo6.png',\n",
       "  './Datasets/cropped/Christiano Ronaldo/Christiano Ronaldo7.png',\n",
       "  './Datasets/cropped/Christiano Ronaldo/Christiano Ronaldo8.png',\n",
       "  './Datasets/cropped/Christiano Ronaldo/Christiano Ronaldo9.png',\n",
       "  './Datasets/cropped/Christiano Ronaldo/Christiano Ronaldo10.png',\n",
       "  './Datasets/cropped/Christiano Ronaldo/Christiano Ronaldo11.png',\n",
       "  './Datasets/cropped/Christiano Ronaldo/Christiano Ronaldo12.png',\n",
       "  './Datasets/cropped/Christiano Ronaldo/Christiano Ronaldo13.png',\n",
       "  './Datasets/cropped/Christiano Ronaldo/Christiano Ronaldo14.png',\n",
       "  './Datasets/cropped/Christiano Ronaldo/Christiano Ronaldo15.png',\n",
       "  './Datasets/cropped/Christiano Ronaldo/Christiano Ronaldo16.png',\n",
       "  './Datasets/cropped/Christiano Ronaldo/Christiano Ronaldo17.png',\n",
       "  './Datasets/cropped/Christiano Ronaldo/Christiano Ronaldo18.png',\n",
       "  './Datasets/cropped/Christiano Ronaldo/Christiano Ronaldo19.png',\n",
       "  './Datasets/cropped/Christiano Ronaldo/Christiano Ronaldo20.png',\n",
       "  './Datasets/cropped/Christiano Ronaldo/Christiano Ronaldo21.png',\n",
       "  './Datasets/cropped/Christiano Ronaldo/Christiano Ronaldo22.png',\n",
       "  './Datasets/cropped/Christiano Ronaldo/Christiano Ronaldo23.png',\n",
       "  './Datasets/cropped/Christiano Ronaldo/Christiano Ronaldo24.png',\n",
       "  './Datasets/cropped/Christiano Ronaldo/Christiano Ronaldo25.png',\n",
       "  './Datasets/cropped/Christiano Ronaldo/Christiano Ronaldo26.png',\n",
       "  './Datasets/cropped/Christiano Ronaldo/Christiano Ronaldo27.png',\n",
       "  './Datasets/cropped/Christiano Ronaldo/Christiano Ronaldo28.png',\n",
       "  './Datasets/cropped/Christiano Ronaldo/Christiano Ronaldo29.png',\n",
       "  './Datasets/cropped/Christiano Ronaldo/Christiano Ronaldo30.png',\n",
       "  './Datasets/cropped/Christiano Ronaldo/Christiano Ronaldo31.png',\n",
       "  './Datasets/cropped/Christiano Ronaldo/Christiano Ronaldo32.png',\n",
       "  './Datasets/cropped/Christiano Ronaldo/Christiano Ronaldo33.png',\n",
       "  './Datasets/cropped/Christiano Ronaldo/Christiano Ronaldo34.png',\n",
       "  './Datasets/cropped/Christiano Ronaldo/Christiano Ronaldo35.png',\n",
       "  './Datasets/cropped/Christiano Ronaldo/Christiano Ronaldo36.png',\n",
       "  './Datasets/cropped/Christiano Ronaldo/Christiano Ronaldo37.png',\n",
       "  './Datasets/cropped/Christiano Ronaldo/Christiano Ronaldo38.png',\n",
       "  './Datasets/cropped/Christiano Ronaldo/Christiano Ronaldo39.png',\n",
       "  './Datasets/cropped/Christiano Ronaldo/Christiano Ronaldo40.png',\n",
       "  './Datasets/cropped/Christiano Ronaldo/Christiano Ronaldo41.png',\n",
       "  './Datasets/cropped/Christiano Ronaldo/Christiano Ronaldo42.png',\n",
       "  './Datasets/cropped/Christiano Ronaldo/Christiano Ronaldo43.png',\n",
       "  './Datasets/cropped/Christiano Ronaldo/Christiano Ronaldo44.png',\n",
       "  './Datasets/cropped/Christiano Ronaldo/Christiano Ronaldo45.png',\n",
       "  './Datasets/cropped/Christiano Ronaldo/Christiano Ronaldo46.png',\n",
       "  './Datasets/cropped/Christiano Ronaldo/Christiano Ronaldo47.png',\n",
       "  './Datasets/cropped/Christiano Ronaldo/Christiano Ronaldo48.png',\n",
       "  './Datasets/cropped/Christiano Ronaldo/Christiano Ronaldo49.png',\n",
       "  './Datasets/cropped/Christiano Ronaldo/Christiano Ronaldo50.png',\n",
       "  './Datasets/cropped/Christiano Ronaldo/Christiano Ronaldo51.png',\n",
       "  './Datasets/cropped/Christiano Ronaldo/Christiano Ronaldo52.png',\n",
       "  './Datasets/cropped/Christiano Ronaldo/Christiano Ronaldo53.png',\n",
       "  './Datasets/cropped/Christiano Ronaldo/Christiano Ronaldo54.png',\n",
       "  './Datasets/cropped/Christiano Ronaldo/Christiano Ronaldo55.png',\n",
       "  './Datasets/cropped/Christiano Ronaldo/Christiano Ronaldo56.png',\n",
       "  './Datasets/cropped/Christiano Ronaldo/Christiano Ronaldo57.png',\n",
       "  './Datasets/cropped/Christiano Ronaldo/Christiano Ronaldo58.png',\n",
       "  './Datasets/cropped/Christiano Ronaldo/Christiano Ronaldo59.png',\n",
       "  './Datasets/cropped/Christiano Ronaldo/Christiano Ronaldo60.png',\n",
       "  './Datasets/cropped/Christiano Ronaldo/Christiano Ronaldo61.png',\n",
       "  './Datasets/cropped/Christiano Ronaldo/Christiano Ronaldo62.png',\n",
       "  './Datasets/cropped/Christiano Ronaldo/Christiano Ronaldo63.png',\n",
       "  './Datasets/cropped/Christiano Ronaldo/Christiano Ronaldo64.png',\n",
       "  './Datasets/cropped/Christiano Ronaldo/Christiano Ronaldo65.png',\n",
       "  './Datasets/cropped/Christiano Ronaldo/Christiano Ronaldo66.png'],\n",
       " 'Lewandowski': ['./Datasets/cropped/Lewandowski/Lewandowski1.png',\n",
       "  './Datasets/cropped/Lewandowski/Lewandowski2.png',\n",
       "  './Datasets/cropped/Lewandowski/Lewandowski3.png',\n",
       "  './Datasets/cropped/Lewandowski/Lewandowski4.png',\n",
       "  './Datasets/cropped/Lewandowski/Lewandowski5.png',\n",
       "  './Datasets/cropped/Lewandowski/Lewandowski6.png',\n",
       "  './Datasets/cropped/Lewandowski/Lewandowski7.png',\n",
       "  './Datasets/cropped/Lewandowski/Lewandowski8.png',\n",
       "  './Datasets/cropped/Lewandowski/Lewandowski9.png',\n",
       "  './Datasets/cropped/Lewandowski/Lewandowski10.png',\n",
       "  './Datasets/cropped/Lewandowski/Lewandowski11.png',\n",
       "  './Datasets/cropped/Lewandowski/Lewandowski12.png',\n",
       "  './Datasets/cropped/Lewandowski/Lewandowski13.png',\n",
       "  './Datasets/cropped/Lewandowski/Lewandowski14.png',\n",
       "  './Datasets/cropped/Lewandowski/Lewandowski15.png',\n",
       "  './Datasets/cropped/Lewandowski/Lewandowski16.png',\n",
       "  './Datasets/cropped/Lewandowski/Lewandowski17.png',\n",
       "  './Datasets/cropped/Lewandowski/Lewandowski18.png',\n",
       "  './Datasets/cropped/Lewandowski/Lewandowski19.png',\n",
       "  './Datasets/cropped/Lewandowski/Lewandowski20.png',\n",
       "  './Datasets/cropped/Lewandowski/Lewandowski21.png',\n",
       "  './Datasets/cropped/Lewandowski/Lewandowski22.png',\n",
       "  './Datasets/cropped/Lewandowski/Lewandowski23.png',\n",
       "  './Datasets/cropped/Lewandowski/Lewandowski24.png',\n",
       "  './Datasets/cropped/Lewandowski/Lewandowski25.png',\n",
       "  './Datasets/cropped/Lewandowski/Lewandowski26.png',\n",
       "  './Datasets/cropped/Lewandowski/Lewandowski27.png',\n",
       "  './Datasets/cropped/Lewandowski/Lewandowski28.png',\n",
       "  './Datasets/cropped/Lewandowski/Lewandowski29.png',\n",
       "  './Datasets/cropped/Lewandowski/Lewandowski30.png',\n",
       "  './Datasets/cropped/Lewandowski/Lewandowski31.png',\n",
       "  './Datasets/cropped/Lewandowski/Lewandowski32.png',\n",
       "  './Datasets/cropped/Lewandowski/Lewandowski33.png',\n",
       "  './Datasets/cropped/Lewandowski/Lewandowski34.png',\n",
       "  './Datasets/cropped/Lewandowski/Lewandowski35.png',\n",
       "  './Datasets/cropped/Lewandowski/Lewandowski36.png',\n",
       "  './Datasets/cropped/Lewandowski/Lewandowski37.png',\n",
       "  './Datasets/cropped/Lewandowski/Lewandowski38.png',\n",
       "  './Datasets/cropped/Lewandowski/Lewandowski39.png',\n",
       "  './Datasets/cropped/Lewandowski/Lewandowski40.png',\n",
       "  './Datasets/cropped/Lewandowski/Lewandowski41.png',\n",
       "  './Datasets/cropped/Lewandowski/Lewandowski42.png',\n",
       "  './Datasets/cropped/Lewandowski/Lewandowski43.png',\n",
       "  './Datasets/cropped/Lewandowski/Lewandowski44.png',\n",
       "  './Datasets/cropped/Lewandowski/Lewandowski45.png',\n",
       "  './Datasets/cropped/Lewandowski/Lewandowski46.png',\n",
       "  './Datasets/cropped/Lewandowski/Lewandowski47.png',\n",
       "  './Datasets/cropped/Lewandowski/Lewandowski48.png',\n",
       "  './Datasets/cropped/Lewandowski/Lewandowski49.png',\n",
       "  './Datasets/cropped/Lewandowski/Lewandowski50.png',\n",
       "  './Datasets/cropped/Lewandowski/Lewandowski51.png',\n",
       "  './Datasets/cropped/Lewandowski/Lewandowski52.png',\n",
       "  './Datasets/cropped/Lewandowski/Lewandowski53.png',\n",
       "  './Datasets/cropped/Lewandowski/Lewandowski54.png',\n",
       "  './Datasets/cropped/Lewandowski/Lewandowski55.png',\n",
       "  './Datasets/cropped/Lewandowski/Lewandowski56.png',\n",
       "  './Datasets/cropped/Lewandowski/Lewandowski57.png',\n",
       "  './Datasets/cropped/Lewandowski/Lewandowski58.png',\n",
       "  './Datasets/cropped/Lewandowski/Lewandowski59.png',\n",
       "  './Datasets/cropped/Lewandowski/Lewandowski60.png',\n",
       "  './Datasets/cropped/Lewandowski/Lewandowski61.png',\n",
       "  './Datasets/cropped/Lewandowski/Lewandowski62.png',\n",
       "  './Datasets/cropped/Lewandowski/Lewandowski63.png'],\n",
       " 'Lionel Messi': ['./Datasets/cropped/Lionel Messi/Lionel Messi1.png',\n",
       "  './Datasets/cropped/Lionel Messi/Lionel Messi2.png',\n",
       "  './Datasets/cropped/Lionel Messi/Lionel Messi3.png',\n",
       "  './Datasets/cropped/Lionel Messi/Lionel Messi4.png',\n",
       "  './Datasets/cropped/Lionel Messi/Lionel Messi5.png',\n",
       "  './Datasets/cropped/Lionel Messi/Lionel Messi6.png',\n",
       "  './Datasets/cropped/Lionel Messi/Lionel Messi7.png',\n",
       "  './Datasets/cropped/Lionel Messi/Lionel Messi8.png',\n",
       "  './Datasets/cropped/Lionel Messi/Lionel Messi9.png',\n",
       "  './Datasets/cropped/Lionel Messi/Lionel Messi10.png',\n",
       "  './Datasets/cropped/Lionel Messi/Lionel Messi11.png',\n",
       "  './Datasets/cropped/Lionel Messi/Lionel Messi12.png',\n",
       "  './Datasets/cropped/Lionel Messi/Lionel Messi13.png',\n",
       "  './Datasets/cropped/Lionel Messi/Lionel Messi14.png',\n",
       "  './Datasets/cropped/Lionel Messi/Lionel Messi15.png',\n",
       "  './Datasets/cropped/Lionel Messi/Lionel Messi16.png',\n",
       "  './Datasets/cropped/Lionel Messi/Lionel Messi17.png',\n",
       "  './Datasets/cropped/Lionel Messi/Lionel Messi18.png',\n",
       "  './Datasets/cropped/Lionel Messi/Lionel Messi19.png',\n",
       "  './Datasets/cropped/Lionel Messi/Lionel Messi20.png',\n",
       "  './Datasets/cropped/Lionel Messi/Lionel Messi21.png',\n",
       "  './Datasets/cropped/Lionel Messi/Lionel Messi22.png',\n",
       "  './Datasets/cropped/Lionel Messi/Lionel Messi23.png',\n",
       "  './Datasets/cropped/Lionel Messi/Lionel Messi24.png',\n",
       "  './Datasets/cropped/Lionel Messi/Lionel Messi25.png',\n",
       "  './Datasets/cropped/Lionel Messi/Lionel Messi26.png',\n",
       "  './Datasets/cropped/Lionel Messi/Lionel Messi27.png',\n",
       "  './Datasets/cropped/Lionel Messi/Lionel Messi28.png',\n",
       "  './Datasets/cropped/Lionel Messi/Lionel Messi29.png',\n",
       "  './Datasets/cropped/Lionel Messi/Lionel Messi30.png',\n",
       "  './Datasets/cropped/Lionel Messi/Lionel Messi31.png',\n",
       "  './Datasets/cropped/Lionel Messi/Lionel Messi32.png',\n",
       "  './Datasets/cropped/Lionel Messi/Lionel Messi33.png',\n",
       "  './Datasets/cropped/Lionel Messi/Lionel Messi34.png',\n",
       "  './Datasets/cropped/Lionel Messi/Lionel Messi35.png',\n",
       "  './Datasets/cropped/Lionel Messi/Lionel Messi36.png',\n",
       "  './Datasets/cropped/Lionel Messi/Lionel Messi37.png',\n",
       "  './Datasets/cropped/Lionel Messi/Lionel Messi38.png',\n",
       "  './Datasets/cropped/Lionel Messi/Lionel Messi39.png',\n",
       "  './Datasets/cropped/Lionel Messi/Lionel Messi40.png',\n",
       "  './Datasets/cropped/Lionel Messi/Lionel Messi41.png',\n",
       "  './Datasets/cropped/Lionel Messi/Lionel Messi42.png',\n",
       "  './Datasets/cropped/Lionel Messi/Lionel Messi43.png',\n",
       "  './Datasets/cropped/Lionel Messi/Lionel Messi44.png',\n",
       "  './Datasets/cropped/Lionel Messi/Lionel Messi45.png',\n",
       "  './Datasets/cropped/Lionel Messi/Lionel Messi46.png',\n",
       "  './Datasets/cropped/Lionel Messi/Lionel Messi47.png',\n",
       "  './Datasets/cropped/Lionel Messi/Lionel Messi48.png',\n",
       "  './Datasets/cropped/Lionel Messi/Lionel Messi49.png',\n",
       "  './Datasets/cropped/Lionel Messi/Lionel Messi50.png',\n",
       "  './Datasets/cropped/Lionel Messi/Lionel Messi51.png',\n",
       "  './Datasets/cropped/Lionel Messi/Lionel Messi52.png',\n",
       "  './Datasets/cropped/Lionel Messi/Lionel Messi53.png',\n",
       "  './Datasets/cropped/Lionel Messi/Lionel Messi54.png',\n",
       "  './Datasets/cropped/Lionel Messi/Lionel Messi55.png',\n",
       "  './Datasets/cropped/Lionel Messi/Lionel Messi56.png',\n",
       "  './Datasets/cropped/Lionel Messi/Lionel Messi57.png',\n",
       "  './Datasets/cropped/Lionel Messi/Lionel Messi58.png',\n",
       "  './Datasets/cropped/Lionel Messi/Lionel Messi59.png',\n",
       "  './Datasets/cropped/Lionel Messi/Lionel Messi60.png',\n",
       "  './Datasets/cropped/Lionel Messi/Lionel Messi61.png',\n",
       "  './Datasets/cropped/Lionel Messi/Lionel Messi62.png',\n",
       "  './Datasets/cropped/Lionel Messi/Lionel Messi63.png',\n",
       "  './Datasets/cropped/Lionel Messi/Lionel Messi64.png',\n",
       "  './Datasets/cropped/Lionel Messi/Lionel Messi65.png',\n",
       "  './Datasets/cropped/Lionel Messi/Lionel Messi66.png',\n",
       "  './Datasets/cropped/Lionel Messi/Lionel Messi67.png',\n",
       "  './Datasets/cropped/Lionel Messi/Lionel Messi68.png',\n",
       "  './Datasets/cropped/Lionel Messi/Lionel Messi69.png',\n",
       "  './Datasets/cropped/Lionel Messi/Lionel Messi70.png',\n",
       "  './Datasets/cropped/Lionel Messi/Lionel Messi71.png',\n",
       "  './Datasets/cropped/Lionel Messi/Lionel Messi72.png',\n",
       "  './Datasets/cropped/Lionel Messi/Lionel Messi73.png',\n",
       "  './Datasets/cropped/Lionel Messi/Lionel Messi74.png',\n",
       "  './Datasets/cropped/Lionel Messi/Lionel Messi75.png',\n",
       "  './Datasets/cropped/Lionel Messi/Lionel Messi76.png',\n",
       "  './Datasets/cropped/Lionel Messi/Lionel Messi77.png',\n",
       "  './Datasets/cropped/Lionel Messi/Lionel Messi78.png',\n",
       "  './Datasets/cropped/Lionel Messi/Lionel Messi79.png',\n",
       "  './Datasets/cropped/Lionel Messi/Lionel Messi80.png',\n",
       "  './Datasets/cropped/Lionel Messi/Lionel Messi81.png',\n",
       "  './Datasets/cropped/Lionel Messi/Lionel Messi82.png',\n",
       "  './Datasets/cropped/Lionel Messi/Lionel Messi83.png',\n",
       "  './Datasets/cropped/Lionel Messi/Lionel Messi84.png',\n",
       "  './Datasets/cropped/Lionel Messi/Lionel Messi85.png',\n",
       "  './Datasets/cropped/Lionel Messi/Lionel Messi86.png',\n",
       "  './Datasets/cropped/Lionel Messi/Lionel Messi87.png',\n",
       "  './Datasets/cropped/Lionel Messi/Lionel Messi88.png',\n",
       "  './Datasets/cropped/Lionel Messi/Lionel Messi89.png',\n",
       "  './Datasets/cropped/Lionel Messi/Lionel Messi90.png',\n",
       "  './Datasets/cropped/Lionel Messi/Lionel Messi91.png',\n",
       "  './Datasets/cropped/Lionel Messi/Lionel Messi92.png',\n",
       "  './Datasets/cropped/Lionel Messi/Lionel Messi93.png',\n",
       "  './Datasets/cropped/Lionel Messi/Lionel Messi94.png',\n",
       "  './Datasets/cropped/Lionel Messi/Lionel Messi95.png',\n",
       "  './Datasets/cropped/Lionel Messi/Lionel Messi96.png',\n",
       "  './Datasets/cropped/Lionel Messi/Lionel Messi97.png',\n",
       "  './Datasets/cropped/Lionel Messi/Lionel Messi98.png',\n",
       "  './Datasets/cropped/Lionel Messi/Lionel Messi99.png',\n",
       "  './Datasets/cropped/Lionel Messi/Lionel Messi100.png',\n",
       "  './Datasets/cropped/Lionel Messi/Lionel Messi101.png',\n",
       "  './Datasets/cropped/Lionel Messi/Lionel Messi102.png',\n",
       "  './Datasets/cropped/Lionel Messi/Lionel Messi103.png'],\n",
       " 'Luca Modric': ['./Datasets/cropped/Luca Modric/Luca Modric1.png',\n",
       "  './Datasets/cropped/Luca Modric/Luca Modric2.png',\n",
       "  './Datasets/cropped/Luca Modric/Luca Modric3.png',\n",
       "  './Datasets/cropped/Luca Modric/Luca Modric4.png',\n",
       "  './Datasets/cropped/Luca Modric/Luca Modric5.png',\n",
       "  './Datasets/cropped/Luca Modric/Luca Modric6.png',\n",
       "  './Datasets/cropped/Luca Modric/Luca Modric7.png',\n",
       "  './Datasets/cropped/Luca Modric/Luca Modric8.png',\n",
       "  './Datasets/cropped/Luca Modric/Luca Modric9.png',\n",
       "  './Datasets/cropped/Luca Modric/Luca Modric10.png',\n",
       "  './Datasets/cropped/Luca Modric/Luca Modric11.png',\n",
       "  './Datasets/cropped/Luca Modric/Luca Modric12.png',\n",
       "  './Datasets/cropped/Luca Modric/Luca Modric13.png',\n",
       "  './Datasets/cropped/Luca Modric/Luca Modric14.png',\n",
       "  './Datasets/cropped/Luca Modric/Luca Modric15.png',\n",
       "  './Datasets/cropped/Luca Modric/Luca Modric16.png',\n",
       "  './Datasets/cropped/Luca Modric/Luca Modric17.png',\n",
       "  './Datasets/cropped/Luca Modric/Luca Modric18.png',\n",
       "  './Datasets/cropped/Luca Modric/Luca Modric19.png',\n",
       "  './Datasets/cropped/Luca Modric/Luca Modric20.png',\n",
       "  './Datasets/cropped/Luca Modric/Luca Modric21.png',\n",
       "  './Datasets/cropped/Luca Modric/Luca Modric22.png',\n",
       "  './Datasets/cropped/Luca Modric/Luca Modric23.png',\n",
       "  './Datasets/cropped/Luca Modric/Luca Modric24.png',\n",
       "  './Datasets/cropped/Luca Modric/Luca Modric25.png',\n",
       "  './Datasets/cropped/Luca Modric/Luca Modric26.png',\n",
       "  './Datasets/cropped/Luca Modric/Luca Modric27.png',\n",
       "  './Datasets/cropped/Luca Modric/Luca Modric28.png',\n",
       "  './Datasets/cropped/Luca Modric/Luca Modric29.png',\n",
       "  './Datasets/cropped/Luca Modric/Luca Modric30.png',\n",
       "  './Datasets/cropped/Luca Modric/Luca Modric31.png',\n",
       "  './Datasets/cropped/Luca Modric/Luca Modric32.png',\n",
       "  './Datasets/cropped/Luca Modric/Luca Modric33.png',\n",
       "  './Datasets/cropped/Luca Modric/Luca Modric34.png',\n",
       "  './Datasets/cropped/Luca Modric/Luca Modric35.png',\n",
       "  './Datasets/cropped/Luca Modric/Luca Modric36.png',\n",
       "  './Datasets/cropped/Luca Modric/Luca Modric37.png',\n",
       "  './Datasets/cropped/Luca Modric/Luca Modric38.png',\n",
       "  './Datasets/cropped/Luca Modric/Luca Modric39.png',\n",
       "  './Datasets/cropped/Luca Modric/Luca Modric40.png',\n",
       "  './Datasets/cropped/Luca Modric/Luca Modric41.png',\n",
       "  './Datasets/cropped/Luca Modric/Luca Modric42.png',\n",
       "  './Datasets/cropped/Luca Modric/Luca Modric43.png',\n",
       "  './Datasets/cropped/Luca Modric/Luca Modric44.png',\n",
       "  './Datasets/cropped/Luca Modric/Luca Modric45.png',\n",
       "  './Datasets/cropped/Luca Modric/Luca Modric46.png',\n",
       "  './Datasets/cropped/Luca Modric/Luca Modric47.png',\n",
       "  './Datasets/cropped/Luca Modric/Luca Modric48.png',\n",
       "  './Datasets/cropped/Luca Modric/Luca Modric49.png',\n",
       "  './Datasets/cropped/Luca Modric/Luca Modric50.png',\n",
       "  './Datasets/cropped/Luca Modric/Luca Modric51.png',\n",
       "  './Datasets/cropped/Luca Modric/Luca Modric52.png',\n",
       "  './Datasets/cropped/Luca Modric/Luca Modric53.png',\n",
       "  './Datasets/cropped/Luca Modric/Luca Modric54.png',\n",
       "  './Datasets/cropped/Luca Modric/Luca Modric55.png',\n",
       "  './Datasets/cropped/Luca Modric/Luca Modric56.png',\n",
       "  './Datasets/cropped/Luca Modric/Luca Modric57.png',\n",
       "  './Datasets/cropped/Luca Modric/Luca Modric58.png',\n",
       "  './Datasets/cropped/Luca Modric/Luca Modric59.png',\n",
       "  './Datasets/cropped/Luca Modric/Luca Modric60.png',\n",
       "  './Datasets/cropped/Luca Modric/Luca Modric61.png',\n",
       "  './Datasets/cropped/Luca Modric/Luca Modric62.png',\n",
       "  './Datasets/cropped/Luca Modric/Luca Modric63.png',\n",
       "  './Datasets/cropped/Luca Modric/Luca Modric64.png',\n",
       "  './Datasets/cropped/Luca Modric/Luca Modric65.png',\n",
       "  './Datasets/cropped/Luca Modric/Luca Modric66.png',\n",
       "  './Datasets/cropped/Luca Modric/Luca Modric67.png',\n",
       "  './Datasets/cropped/Luca Modric/Luca Modric68.png',\n",
       "  './Datasets/cropped/Luca Modric/Luca Modric69.png',\n",
       "  './Datasets/cropped/Luca Modric/Luca Modric70.png',\n",
       "  './Datasets/cropped/Luca Modric/Luca Modric71.png',\n",
       "  './Datasets/cropped/Luca Modric/Luca Modric72.png',\n",
       "  './Datasets/cropped/Luca Modric/Luca Modric73.png',\n",
       "  './Datasets/cropped/Luca Modric/Luca Modric74.png',\n",
       "  './Datasets/cropped/Luca Modric/Luca Modric75.png',\n",
       "  './Datasets/cropped/Luca Modric/Luca Modric76.png',\n",
       "  './Datasets/cropped/Luca Modric/Luca Modric77.png',\n",
       "  './Datasets/cropped/Luca Modric/Luca Modric78.png',\n",
       "  './Datasets/cropped/Luca Modric/Luca Modric79.png',\n",
       "  './Datasets/cropped/Luca Modric/Luca Modric80.png',\n",
       "  './Datasets/cropped/Luca Modric/Luca Modric81.png',\n",
       "  './Datasets/cropped/Luca Modric/Luca Modric82.png'],\n",
       " 'Neymar jr': ['./Datasets/cropped/Neymar jr/Neymar jr1.png',\n",
       "  './Datasets/cropped/Neymar jr/Neymar jr2.png',\n",
       "  './Datasets/cropped/Neymar jr/Neymar jr3.png',\n",
       "  './Datasets/cropped/Neymar jr/Neymar jr4.png',\n",
       "  './Datasets/cropped/Neymar jr/Neymar jr5.png',\n",
       "  './Datasets/cropped/Neymar jr/Neymar jr6.png',\n",
       "  './Datasets/cropped/Neymar jr/Neymar jr7.png',\n",
       "  './Datasets/cropped/Neymar jr/Neymar jr8.png',\n",
       "  './Datasets/cropped/Neymar jr/Neymar jr9.png',\n",
       "  './Datasets/cropped/Neymar jr/Neymar jr10.png',\n",
       "  './Datasets/cropped/Neymar jr/Neymar jr11.png',\n",
       "  './Datasets/cropped/Neymar jr/Neymar jr12.png',\n",
       "  './Datasets/cropped/Neymar jr/Neymar jr13.png',\n",
       "  './Datasets/cropped/Neymar jr/Neymar jr14.png',\n",
       "  './Datasets/cropped/Neymar jr/Neymar jr15.png',\n",
       "  './Datasets/cropped/Neymar jr/Neymar jr16.png',\n",
       "  './Datasets/cropped/Neymar jr/Neymar jr17.png',\n",
       "  './Datasets/cropped/Neymar jr/Neymar jr18.png',\n",
       "  './Datasets/cropped/Neymar jr/Neymar jr19.png',\n",
       "  './Datasets/cropped/Neymar jr/Neymar jr20.png',\n",
       "  './Datasets/cropped/Neymar jr/Neymar jr21.png',\n",
       "  './Datasets/cropped/Neymar jr/Neymar jr22.png',\n",
       "  './Datasets/cropped/Neymar jr/Neymar jr23.png',\n",
       "  './Datasets/cropped/Neymar jr/Neymar jr24.png',\n",
       "  './Datasets/cropped/Neymar jr/Neymar jr25.png',\n",
       "  './Datasets/cropped/Neymar jr/Neymar jr26.png',\n",
       "  './Datasets/cropped/Neymar jr/Neymar jr27.png',\n",
       "  './Datasets/cropped/Neymar jr/Neymar jr28.png',\n",
       "  './Datasets/cropped/Neymar jr/Neymar jr29.png',\n",
       "  './Datasets/cropped/Neymar jr/Neymar jr30.png',\n",
       "  './Datasets/cropped/Neymar jr/Neymar jr31.png',\n",
       "  './Datasets/cropped/Neymar jr/Neymar jr32.png',\n",
       "  './Datasets/cropped/Neymar jr/Neymar jr33.png',\n",
       "  './Datasets/cropped/Neymar jr/Neymar jr34.png',\n",
       "  './Datasets/cropped/Neymar jr/Neymar jr35.png',\n",
       "  './Datasets/cropped/Neymar jr/Neymar jr36.png',\n",
       "  './Datasets/cropped/Neymar jr/Neymar jr37.png',\n",
       "  './Datasets/cropped/Neymar jr/Neymar jr38.png',\n",
       "  './Datasets/cropped/Neymar jr/Neymar jr39.png',\n",
       "  './Datasets/cropped/Neymar jr/Neymar jr40.png',\n",
       "  './Datasets/cropped/Neymar jr/Neymar jr41.png',\n",
       "  './Datasets/cropped/Neymar jr/Neymar jr42.png',\n",
       "  './Datasets/cropped/Neymar jr/Neymar jr43.png',\n",
       "  './Datasets/cropped/Neymar jr/Neymar jr44.png',\n",
       "  './Datasets/cropped/Neymar jr/Neymar jr45.png',\n",
       "  './Datasets/cropped/Neymar jr/Neymar jr46.png',\n",
       "  './Datasets/cropped/Neymar jr/Neymar jr47.png',\n",
       "  './Datasets/cropped/Neymar jr/Neymar jr48.png',\n",
       "  './Datasets/cropped/Neymar jr/Neymar jr49.png',\n",
       "  './Datasets/cropped/Neymar jr/Neymar jr50.png',\n",
       "  './Datasets/cropped/Neymar jr/Neymar jr51.png',\n",
       "  './Datasets/cropped/Neymar jr/Neymar jr52.png',\n",
       "  './Datasets/cropped/Neymar jr/Neymar jr53.png',\n",
       "  './Datasets/cropped/Neymar jr/Neymar jr54.png',\n",
       "  './Datasets/cropped/Neymar jr/Neymar jr55.png',\n",
       "  './Datasets/cropped/Neymar jr/Neymar jr56.png',\n",
       "  './Datasets/cropped/Neymar jr/Neymar jr57.png',\n",
       "  './Datasets/cropped/Neymar jr/Neymar jr58.png',\n",
       "  './Datasets/cropped/Neymar jr/Neymar jr59.png',\n",
       "  './Datasets/cropped/Neymar jr/Neymar jr60.png',\n",
       "  './Datasets/cropped/Neymar jr/Neymar jr61.png',\n",
       "  './Datasets/cropped/Neymar jr/Neymar jr62.png',\n",
       "  './Datasets/cropped/Neymar jr/Neymar jr63.png',\n",
       "  './Datasets/cropped/Neymar jr/Neymar jr64.png']}"
      ]
     },
     "execution_count": 9,
     "metadata": {},
     "output_type": "execute_result"
    }
   ],
   "source": [
    "player_name_file"
   ]
  },
  {
   "cell_type": "markdown",
   "metadata": {},
   "source": [
    "Making a function to perform wavelet transformation which will give a feature image"
   ]
  },
  {
   "cell_type": "code",
   "execution_count": 10,
   "metadata": {},
   "outputs": [],
   "source": [
    "import pywt\n",
    "# I got this function from stack overflow\n",
    "def w2d(img, mode='haar', level=1):\n",
    "    imArray = img\n",
    "    #Datatype conversions\n",
    "    #convert to grayscale\n",
    "    imArray = cv2.cvtColor( imArray,cv2.COLOR_RGB2GRAY )\n",
    "    #convert to float\n",
    "    imArray =  np.float32(imArray)   \n",
    "    imArray /= 255;\n",
    "    # compute coefficients \n",
    "    coeffs=pywt.wavedec2(imArray, mode, level=level)\n",
    "\n",
    "    #Process Coefficients\n",
    "    coeffs_H=list(coeffs)  \n",
    "    coeffs_H[0] *= 0;  \n",
    "\n",
    "    # reconstruction\n",
    "    imArray_H=pywt.waverec2(coeffs_H, mode);\n",
    "    imArray_H *= 255;\n",
    "    imArray_H =  np.uint8(imArray_H)\n",
    "\n",
    "    return imArray_H"
   ]
  },
  {
   "cell_type": "markdown",
   "metadata": {},
   "source": [
    "Making X and Y feature for my model training"
   ]
  },
  {
   "cell_type": "code",
   "execution_count": 11,
   "metadata": {},
   "outputs": [
    {
     "data": {
      "text/plain": [
       "{'Christiano Ronaldo': 0,\n",
       " 'Lewandowski': 1,\n",
       " 'Lionel Messi': 2,\n",
       " 'Luca Modric': 3,\n",
       " 'Neymar jr': 4}"
      ]
     },
     "execution_count": 11,
     "metadata": {},
     "output_type": "execute_result"
    }
   ],
   "source": [
    "player_number = {}\n",
    "count = 0\n",
    "for aplayer in player_name_file.keys():\n",
    "    player_number[aplayer] = count\n",
    "    count += 1\n",
    "player_number"
   ]
  },
  {
   "cell_type": "code",
   "execution_count": 26,
   "metadata": {},
   "outputs": [],
   "source": [
    "X = []\n",
    "Y = []\n",
    "\n",
    "for player, png_img in player_name_file.items():\n",
    "    for png in png_img:\n",
    "        img = cv2.imread(png) #reading the image\n",
    "        if img is None: # Since I've deleted some images there will be error without this if statement\n",
    "            continue\n",
    "        scalled_img = cv2.resize(img, (32, 32)) #just to be safe with size issue i'm resizing this images\n",
    "        wavelet_img = w2d(img, 'db1', 5 )\n",
    "        scalled_wavelet_img = cv2.resize(wavelet_img, (32, 32)) # I need wavelet image in same size as the scalled image\n",
    "\n",
    "        combined_image = np.vstack((scalled_img.reshape(32*32*3,1), scalled_wavelet_img.reshape(32*32,1))) # I'm stacking those images vertically because I'll use both of them as input \n",
    "\n",
    "        X.append(combined_image) # these are the input features\n",
    "        Y.append(player_number[player]) # I need numbers for each player name to make an valid output for my model"
   ]
  },
  {
   "cell_type": "code",
   "execution_count": 27,
   "metadata": {},
   "outputs": [
    {
     "data": {
      "text/plain": [
       "4096"
      ]
     },
     "execution_count": 27,
     "metadata": {},
     "output_type": "execute_result"
    }
   ],
   "source": [
    "len(X[0])"
   ]
  },
  {
   "cell_type": "code",
   "execution_count": 28,
   "metadata": {},
   "outputs": [
    {
     "data": {
      "text/plain": [
       "(204, 4096)"
      ]
     },
     "execution_count": 28,
     "metadata": {},
     "output_type": "execute_result"
    }
   ],
   "source": [
    "X = np.array(X).reshape(len(X),4096).astype('float')\n",
    "X.shape"
   ]
  },
  {
   "cell_type": "code",
   "execution_count": 30,
   "metadata": {},
   "outputs": [
    {
     "data": {
      "text/plain": [
       "array([ 24.,  20.,  19., ..., 193., 195., 188.])"
      ]
     },
     "execution_count": 30,
     "metadata": {},
     "output_type": "execute_result"
    }
   ],
   "source": [
    "X[0]"
   ]
  },
  {
   "cell_type": "markdown",
   "metadata": {},
   "source": [
    "Creating the model"
   ]
  },
  {
   "cell_type": "code",
   "execution_count": 31,
   "metadata": {},
   "outputs": [],
   "source": [
    "from sklearn.svm import SVC\n",
    "from sklearn.model_selection import train_test_split, GridSearchCV, ShuffleSplit, cross_val_score\n",
    "from sklearn.metrics import classification_report\n",
    "from sklearn.preprocessing import StandardScaler\n",
    "from sklearn.pipeline import Pipeline"
   ]
  },
  {
   "cell_type": "code",
   "execution_count": 32,
   "metadata": {},
   "outputs": [],
   "source": [
    "x_train, x_test, y_train, y_test = train_test_split(X,Y, test_size=0.2, random_state=0)"
   ]
  },
  {
   "cell_type": "code",
   "execution_count": 33,
   "metadata": {},
   "outputs": [
    {
     "data": {
      "text/plain": [
       "0.8536585365853658"
      ]
     },
     "execution_count": 33,
     "metadata": {},
     "output_type": "execute_result"
    }
   ],
   "source": [
    "pipe = Pipeline([('scaler', StandardScaler()), ('model', SVC(kernel='linear', C=1))])\n",
    "pipe.fit(x_train,y_train)\n",
    "pipe.score(x_test,y_test)"
   ]
  },
  {
   "cell_type": "code",
   "execution_count": 34,
   "metadata": {},
   "outputs": [
    {
     "data": {
      "text/plain": [
       "0.7418560606060607"
      ]
     },
     "execution_count": 34,
     "metadata": {},
     "output_type": "execute_result"
    }
   ],
   "source": [
    "cross_val_score(pipe, x_train, y_train).mean()"
   ]
  },
  {
   "cell_type": "code",
   "execution_count": 35,
   "metadata": {},
   "outputs": [
    {
     "name": "stdout",
     "output_type": "stream",
     "text": [
      "              precision    recall  f1-score   support\n",
      "\n",
      "           0       0.88      0.88      0.88         8\n",
      "           1       0.86      0.86      0.86         7\n",
      "           2       0.80      0.73      0.76        11\n",
      "           3       0.91      0.91      0.91        11\n",
      "           4       0.80      1.00      0.89         4\n",
      "\n",
      "    accuracy                           0.85        41\n",
      "   macro avg       0.85      0.87      0.86        41\n",
      "weighted avg       0.85      0.85      0.85        41\n",
      "\n"
     ]
    }
   ],
   "source": [
    "print(classification_report(y_test, pipe.predict(x_test)))"
   ]
  },
  {
   "cell_type": "markdown",
   "metadata": {},
   "source": [
    "SVM was a test model. now I'll find the best model using gridsearch"
   ]
  },
  {
   "cell_type": "code",
   "execution_count": 36,
   "metadata": {},
   "outputs": [],
   "source": [
    "from sklearn.ensemble import RandomForestClassifier\n",
    "from sklearn.linear_model import LogisticRegression\n",
    "from sklearn.tree import DecisionTreeClassifier\n",
    "from sklearn.naive_bayes import GaussianNB\n",
    "from sklearn.ensemble import RandomForestClassifier"
   ]
  },
  {
   "cell_type": "code",
   "execution_count": 37,
   "metadata": {},
   "outputs": [],
   "source": [
    "model_params = {\n",
    "    'svm': {\n",
    "        'model': SVC(probability=True),\n",
    "        'params' : {\n",
    "            'svm__C': [1,10,100,1000],\n",
    "            'svm__kernel': ['linear','poly','rbf'],\n",
    "            'svm__gamma': ['scale','auto','float'],\n",
    "            'svm__shrinking': [True, False]\n",
    "        }  \n",
    "    },\n",
    "    'random_forest': {\n",
    "        'model': RandomForestClassifier(),\n",
    "        'params' : {\n",
    "            'random_forest__n_estimators': [10,40,50]\n",
    "        }\n",
    "    },\n",
    "    'logistic_regression' : {\n",
    "        'model': LogisticRegression(multi_class='auto'),\n",
    "        'params': {\n",
    "            'logistic_regression__C': [1,5,10],\n",
    "            'logistic_regression__penalty': ['l1','l2','elasticnet','none'],\n",
    "            'logistic_regression__fit_intercept': [True, False],\n",
    "            'logistic_regression__solver': ['newton-cg', 'lbfgs', 'liblinear','sag'],\n",
    "        }\n",
    "    },\n",
    "    'naive_bayes_gaussian': {\n",
    "        'model': GaussianNB(),\n",
    "        'params': {}\n",
    "    },\n",
    "    'decision_tree': {\n",
    "        'model': DecisionTreeClassifier(),\n",
    "        'params': {\n",
    "            'decision_tree__criterion': ['gini','entropy','log_loss'],\n",
    "            'decision_tree__splitter': ['best','random'],\n",
    "        }\n",
    "    },\n",
    "    'random_forest': {\n",
    "        'model': RandomForestClassifier(),\n",
    "        'params': {\n",
    "            'random_forest__n_estimators': [30, 40, 50, 80, 100],\n",
    "            'random_forest__criterion': ['gini','entropy','log_loss'],\n",
    "            'random_forest__bootstrap': [True, False]\n",
    "        }\n",
    "    }\n",
    "\n",
    "}"
   ]
  },
  {
   "cell_type": "code",
   "execution_count": 38,
   "metadata": {},
   "outputs": [
    {
     "data": {
      "text/html": [
       "<div>\n",
       "<style scoped>\n",
       "    .dataframe tbody tr th:only-of-type {\n",
       "        vertical-align: middle;\n",
       "    }\n",
       "\n",
       "    .dataframe tbody tr th {\n",
       "        vertical-align: top;\n",
       "    }\n",
       "\n",
       "    .dataframe thead th {\n",
       "        text-align: right;\n",
       "    }\n",
       "</style>\n",
       "<table border=\"1\" class=\"dataframe\">\n",
       "  <thead>\n",
       "    <tr style=\"text-align: right;\">\n",
       "      <th></th>\n",
       "      <th>model</th>\n",
       "      <th>best_score</th>\n",
       "      <th>best_params</th>\n",
       "    </tr>\n",
       "  </thead>\n",
       "  <tbody>\n",
       "    <tr>\n",
       "      <th>0</th>\n",
       "      <td>svm</td>\n",
       "      <td>0.715152</td>\n",
       "      <td>{'svm__C': 1, 'svm__gamma': 'scale', 'svm__ker...</td>\n",
       "    </tr>\n",
       "    <tr>\n",
       "      <th>1</th>\n",
       "      <td>random_forest</td>\n",
       "      <td>0.618182</td>\n",
       "      <td>{'random_forest__bootstrap': False, 'random_fo...</td>\n",
       "    </tr>\n",
       "    <tr>\n",
       "      <th>2</th>\n",
       "      <td>logistic_regression</td>\n",
       "      <td>0.793939</td>\n",
       "      <td>{'logistic_regression__C': 1, 'logistic_regres...</td>\n",
       "    </tr>\n",
       "    <tr>\n",
       "      <th>3</th>\n",
       "      <td>naive_bayes_gaussian</td>\n",
       "      <td>0.527273</td>\n",
       "      <td>{}</td>\n",
       "    </tr>\n",
       "    <tr>\n",
       "      <th>4</th>\n",
       "      <td>decision_tree</td>\n",
       "      <td>0.406061</td>\n",
       "      <td>{'decision_tree__criterion': 'gini', 'decision...</td>\n",
       "    </tr>\n",
       "  </tbody>\n",
       "</table>\n",
       "</div>"
      ],
      "text/plain": [
       "                  model  best_score  \\\n",
       "0                   svm    0.715152   \n",
       "1         random_forest    0.618182   \n",
       "2   logistic_regression    0.793939   \n",
       "3  naive_bayes_gaussian    0.527273   \n",
       "4         decision_tree    0.406061   \n",
       "\n",
       "                                         best_params  \n",
       "0  {'svm__C': 1, 'svm__gamma': 'scale', 'svm__ker...  \n",
       "1  {'random_forest__bootstrap': False, 'random_fo...  \n",
       "2  {'logistic_regression__C': 1, 'logistic_regres...  \n",
       "3                                                 {}  \n",
       "4  {'decision_tree__criterion': 'gini', 'decision...  "
      ]
     },
     "execution_count": 38,
     "metadata": {},
     "output_type": "execute_result"
    }
   ],
   "source": [
    "import pandas as pd\n",
    "\n",
    "cvgrd = ShuffleSplit(n_splits=5, test_size=0.2, random_state=0)\n",
    "scores = []\n",
    "best_estimators = {}\n",
    "for algo, mp in model_params.items():\n",
    "    pipe2 = Pipeline([('scaler', StandardScaler()),(algo, mp['model'])]) # here the pipeline method is name sensitive.. look at the dictionary\n",
    "    clf =  GridSearchCV(pipe2, mp['params'], cv=cvgrd, return_train_score=False)\n",
    "    clf.fit(x_train, y_train)\n",
    "    scores.append({\n",
    "        'model': algo,\n",
    "        'best_score': clf.best_score_,\n",
    "        'best_params': clf.best_params_\n",
    "    })\n",
    "    best_estimators[algo] = clf.best_estimator_\n",
    "    \n",
    "df = pd.DataFrame(scores,columns=['model','best_score','best_params'])\n",
    "df"
   ]
  },
  {
   "cell_type": "code",
   "execution_count": 39,
   "metadata": {},
   "outputs": [
    {
     "data": {
      "text/plain": [
       "0.8536585365853658"
      ]
     },
     "execution_count": 39,
     "metadata": {},
     "output_type": "execute_result"
    }
   ],
   "source": [
    "best_estimators['svm'].score(x_test,y_test)"
   ]
  },
  {
   "cell_type": "code",
   "execution_count": 40,
   "metadata": {},
   "outputs": [
    {
     "data": {
      "text/plain": [
       "0.6585365853658537"
      ]
     },
     "execution_count": 40,
     "metadata": {},
     "output_type": "execute_result"
    }
   ],
   "source": [
    "best_estimators['random_forest'].score(x_test,y_test)"
   ]
  },
  {
   "cell_type": "code",
   "execution_count": 41,
   "metadata": {},
   "outputs": [
    {
     "data": {
      "text/plain": [
       "0.8536585365853658"
      ]
     },
     "execution_count": 41,
     "metadata": {},
     "output_type": "execute_result"
    }
   ],
   "source": [
    "best_estimators['logistic_regression'].score(x_test,y_test)"
   ]
  },
  {
   "cell_type": "markdown",
   "metadata": {},
   "source": [
    "Here the winner is Logistic regression. I'll go with it"
   ]
  },
  {
   "cell_type": "code",
   "execution_count": 49,
   "metadata": {},
   "outputs": [],
   "source": [
    "from sklearn.metrics import confusion_matrix\n",
    "\n",
    "best_clf = best_estimators['svm']\n",
    "cm = confusion_matrix(y_test, best_clf.predict(x_test))"
   ]
  },
  {
   "cell_type": "code",
   "execution_count": 50,
   "metadata": {},
   "outputs": [
    {
     "data": {
      "text/plain": [
       "array([0, 1, 0, 1, 2, 2, 0, 2, 2, 3, 1, 4, 3, 3, 3, 0, 3, 4, 2, 1, 1, 3,\n",
       "       2, 3, 1, 3, 4, 4, 3, 2, 4, 1, 0, 2, 2, 0, 2, 0, 0, 3, 3])"
      ]
     },
     "execution_count": 50,
     "metadata": {},
     "output_type": "execute_result"
    }
   ],
   "source": [
    "best_clf.predict(x_test)"
   ]
  },
  {
   "cell_type": "code",
   "execution_count": 47,
   "metadata": {},
   "outputs": [
    {
     "data": {
      "text/plain": [
       "[0,\n",
       " 1,\n",
       " 0,\n",
       " 1,\n",
       " 2,\n",
       " 2,\n",
       " 0,\n",
       " 2,\n",
       " 0,\n",
       " 3,\n",
       " 1,\n",
       " 4,\n",
       " 3,\n",
       " 3,\n",
       " 3,\n",
       " 0,\n",
       " 3,\n",
       " 3,\n",
       " 2,\n",
       " 1,\n",
       " 1,\n",
       " 3,\n",
       " 1,\n",
       " 3,\n",
       " 2,\n",
       " 3,\n",
       " 4,\n",
       " 4,\n",
       " 3,\n",
       " 2,\n",
       " 4,\n",
       " 1,\n",
       " 0,\n",
       " 2,\n",
       " 2,\n",
       " 0,\n",
       " 2,\n",
       " 2,\n",
       " 0,\n",
       " 3,\n",
       " 2]"
      ]
     },
     "execution_count": 47,
     "metadata": {},
     "output_type": "execute_result"
    }
   ],
   "source": [
    "y_test"
   ]
  },
  {
   "cell_type": "code",
   "execution_count": 51,
   "metadata": {},
   "outputs": [
    {
     "data": {
      "text/plain": [
       "Text(95.72222222222221, 0.5, 'Truth')"
      ]
     },
     "execution_count": 51,
     "metadata": {},
     "output_type": "execute_result"
    },
    {
     "data": {
      "image/png": "[encoded data removed]",
      "text/plain": [
       "<Figure size 1000x700 with 2 Axes>"
      ]
     },
     "metadata": {},
     "output_type": "display_data"
    }
   ],
   "source": [
    "import seaborn as sn\n",
    "plt.figure(figsize = (10,7))\n",
    "sn.heatmap(cm, annot=True)\n",
    "plt.xlabel('Predicted')\n",
    "plt.ylabel('Truth')"
   ]
  },
  {
   "cell_type": "code",
   "execution_count": 52,
   "metadata": {},
   "outputs": [
    {
     "data": {
      "text/plain": [
       "['model.pkl']"
      ]
     },
     "execution_count": 52,
     "metadata": {},
     "output_type": "execute_result"
    }
   ],
   "source": [
    "import joblib\n",
    "joblib.dump(best_clf, 'model.pkl')"
   ]
  },
  {
   "cell_type": "code",
   "execution_count": 53,
   "metadata": {},
   "outputs": [],
   "source": [
    "import json\n",
    "with open(\"player_dictionary.json\",\"w\") as f:\n",
    "    f.write(json.dumps(player_number))"
   ]
  }
 ],
 "metadata": {
  "kernelspec": {
   "display_name": "Python 3",
   "language": "python",
   "name": "python3"
  },
  "language_info": {
   "codemirror_mode": {
    "name": "ipython",
    "version": 3
   },
   "file_extension": ".py",
   "mimetype": "text/x-python",
   "name": "python",
   "nbconvert_exporter": "python",
   "pygments_lexer": "ipython3",
   "version": "3.12.2"
  }
 },
 "nbformat": 4,
 "nbformat_minor": 2
}
