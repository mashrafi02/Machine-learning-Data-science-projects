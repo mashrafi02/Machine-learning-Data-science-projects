{
 "cells": [
  {
   "cell_type": "code",
   "execution_count": 2,
   "metadata": {},
   "outputs": [],
   "source": [
    "import numpy as np\n",
    "import cv2\n",
    "import matplotlib\n",
    "import warnings\n",
    "import matplotlib.pyplot as plt\n",
    "warnings.filterwarnings('ignore')\n",
    "%matplotlib inline"
   ]
  },
  {
   "cell_type": "code",
   "execution_count": 3,
   "metadata": {},
   "outputs": [],
   "source": [
    "face_cascade = cv2.CascadeClassifier(\"opencv/haarcascades\\haarcascade_frontalface_default.xml\")\n",
    "eye_cascade = cv2.CascadeClassifier(\"opencv/haarcascades\\haarcascade_eye.xml\")"
   ]
  },
  {
   "cell_type": "code",
   "execution_count": 26,
   "metadata": {},
   "outputs": [],
   "source": [
    "def get_cropped_image_for_2_eyes(image_path):\n",
    "    img_main = cv2.imread(image_path)\n",
    "    if img_main is None:\n",
    "        print('Not an image')\n",
    "    else:\n",
    "        try:\n",
    "            gray_img = cv2.cvtColor(img_main, cv2.COLOR_BGR2GRAY)\n",
    "        except UnboundLocalError:\n",
    "            print('Gray image is not available')\n",
    "            return None\n",
    "        else:\n",
    "            faces_gray = face_cascade.detectMultiScale(gray_img, 1.1, 5)\n",
    "            for (x,y,w,h) in faces_gray:\n",
    "                roi_color = img_main[y:y+h, x:x+w]\n",
    "                eyes_gray = eye_cascade.detectMultiScale(gray_img, 1.1, 5)\n",
    "                if len(eyes_gray) >=2:\n",
    "                    return roi_color"
   ]
  },
  {
   "cell_type": "markdown",
   "metadata": {},
   "source": [
    "this function will return only one image. because if u have 2 faces in your image after returning first roi color the loop will stop"
   ]
  },
  {
   "cell_type": "code",
   "execution_count": 6,
   "metadata": {},
   "outputs": [],
   "source": [
    "path_to_data = \"./Datasets/\"\n",
    "path_to_cr_data = \"./Datasets/cropped/\""
   ]
  },
  {
   "cell_type": "code",
   "execution_count": 16,
   "metadata": {},
   "outputs": [],
   "source": [
    "import os\n",
    "player_dirs = []\n",
    "for entry in os.scandir(path_to_data):\n",
    "    if entry.is_dir():\n",
    "        player_dirs.append(entry.path)"
   ]
  },
  {
   "cell_type": "code",
   "execution_count": 17,
   "metadata": {},
   "outputs": [
    {
     "data": {
      "text/plain": [
       "['./Datasets/christiano ronaldo',\n",
       " './Datasets/gareth bale',\n",
       " './Datasets/ibrahimobic',\n",
       " './Datasets/lewandski',\n",
       " './Datasets/lionel messi',\n",
       " './Datasets/luka modric',\n",
       " './Datasets/mohamed salah',\n",
       " './Datasets/neymar',\n",
       " './Datasets/paulo dybala',\n",
       " './Datasets/pique',\n",
       " './Datasets/sergio ramos']"
      ]
     },
     "execution_count": 17,
     "metadata": {},
     "output_type": "execute_result"
    }
   ],
   "source": [
    "player_dirs"
   ]
  },
  {
   "cell_type": "code",
   "execution_count": 18,
   "metadata": {},
   "outputs": [],
   "source": [
    "import shutil\n",
    "\n",
    "if os.path.exists(path_to_cr_data):\n",
    "    shutil.rmtree(path_to_cr_data)\n",
    "os.mkdir(path_to_cr_data)"
   ]
  },
  {
   "cell_type": "code",
   "execution_count": 27,
   "metadata": {},
   "outputs": [
    {
     "name": "stdout",
     "output_type": "stream",
     "text": [
      "Generating cropped images in folder ./Datasets/cropped/christiano ronaldo\n",
      "Not an image\n",
      "Not an image\n",
      "Generating cropped images in folder ./Datasets/cropped/gareth bale\n",
      "Generating cropped images in folder ./Datasets/cropped/ibrahimobic\n",
      "Not an image\n",
      "Not an image\n",
      "Generating cropped images in folder ./Datasets/cropped/lewandski\n",
      "Not an image\n",
      "Generating cropped images in folder ./Datasets/cropped/lionel messi\n",
      "Generating cropped images in folder ./Datasets/cropped/luka modric\n",
      "Not an image\n",
      "Not an image\n",
      "Generating cropped images in folder ./Datasets/cropped/mohamed salah\n",
      "Generating cropped images in folder ./Datasets/cropped/neymar\n",
      "Not an image\n",
      "Generating cropped images in folder ./Datasets/cropped/paulo dybala\n",
      "Not an image\n",
      "Not an image\n",
      "Generating cropped images in folder ./Datasets/cropped/pique\n",
      "Not an image\n",
      "Not an image\n",
      "Not an image\n",
      "Generating cropped images in folder ./Datasets/cropped/sergio ramos\n"
     ]
    }
   ],
   "source": [
    "cropped_img_dirs = []\n",
    "player_name_file = {}\n",
    "\n",
    "for dirs in player_dirs:\n",
    "\n",
    "    count = 1\n",
    "    player_name = dirs.split('/')[-1]\n",
    "    player_name_file[player_name] = []\n",
    "\n",
    "    for image in os.scandir(dirs):\n",
    "\n",
    "        roi_color = get_cropped_image_for_2_eyes(image.path)\n",
    "\n",
    "        if roi_color is not None:\n",
    "            cropped_folder = path_to_cr_data + player_name\n",
    "\n",
    "            if not os.path.exists(cropped_folder):\n",
    "                print('Generating cropped images in folder', cropped_folder)\n",
    "                os.mkdir(cropped_folder)\n",
    "\n",
    "            cropped_img_dirs.append(cropped_folder)\n",
    "\n",
    "            cropped_file_name = player_name + str(count) + \".png\"\n",
    "            cropped_file_path = cropped_folder + \"/\" + cropped_file_name\n",
    "\n",
    "            cv2.imwrite(cropped_file_path, roi_color)\n",
    "            player_name_file[player_name].append(cropped_file_path)\n",
    "            count += 1\n"
   ]
  },
  {
   "cell_type": "code",
   "execution_count": null,
   "metadata": {},
   "outputs": [],
   "source": []
  }
 ],
 "metadata": {
  "kernelspec": {
   "display_name": "Python 3",
   "language": "python",
   "name": "python3"
  },
  "language_info": {
   "codemirror_mode": {
    "name": "ipython",
    "version": 3
   },
   "file_extension": ".py",
   "mimetype": "text/x-python",
   "name": "python",
   "nbconvert_exporter": "python",
   "pygments_lexer": "ipython3",
   "version": "3.12.2"
  }
 },
 "nbformat": 4,
 "nbformat_minor": 2
}
