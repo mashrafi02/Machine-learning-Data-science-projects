{
 "cells": [
  {
   "cell_type": "code",
   "execution_count": 22,
   "metadata": {},
   "outputs": [],
   "source": [
    "import numpy as np\n",
    "import cv2\n",
    "import matplotlib\n",
    "import warnings\n",
    "import matplotlib.pyplot as plt\n",
    "warnings.filterwarnings('ignore')\n",
    "%matplotlib inline"
   ]
  },
  {
   "cell_type": "code",
   "execution_count": 2,
   "metadata": {},
   "outputs": [],
   "source": [
    "face_cascade = cv2.CascadeClassifier(\"opencv/haarcascades\\haarcascade_frontalface_default.xml\")\n",
    "eye_cascade = cv2.CascadeClassifier(\"opencv/haarcascades\\haarcascade_eye.xml\")"
   ]
  },
  {
   "cell_type": "code",
   "execution_count": 3,
   "metadata": {},
   "outputs": [],
   "source": [
    "def get_cropped_image_for_2_eyes(image_path):\n",
    "    img_main = cv2.imread(image_path)\n",
    "    if img_main is None:\n",
    "        print('Not an image')\n",
    "    else:\n",
    "        try:\n",
    "            gray_img = cv2.cvtColor(img_main, cv2.COLOR_BGR2GRAY)\n",
    "        except UnboundLocalError:\n",
    "            print('Gray image is not available')\n",
    "            return None\n",
    "        else:\n",
    "            faces_gray = face_cascade.detectMultiScale(gray_img, 1.1, 5)\n",
    "            for (x,y,w,h) in faces_gray:\n",
    "                roi_color = img_main[y:y+h, x:x+w]\n",
    "                eyes_gray = eye_cascade.detectMultiScale(gray_img, 1.1, 5)\n",
    "                if len(eyes_gray) >=2:\n",
    "                    return roi_color"
   ]
  },
  {
   "cell_type": "markdown",
   "metadata": {},
   "source": [
    "this function will return only one image. because if u have 2 faces in your image after returning first roi color the loop will stop"
   ]
  },
  {
   "cell_type": "code",
   "execution_count": 4,
   "metadata": {},
   "outputs": [],
   "source": [
    "path_to_data = \"./Datasets/\"\n",
    "path_to_cr_data = \"./Datasets/cropped/\""
   ]
  },
  {
   "cell_type": "code",
   "execution_count": 5,
   "metadata": {},
   "outputs": [],
   "source": [
    "import os\n",
    "player_dirs = []\n",
    "for entry in os.scandir(path_to_data):\n",
    "    if entry.is_dir():\n",
    "        player_dirs.append(entry.path)"
   ]
  },
  {
   "cell_type": "code",
   "execution_count": 6,
   "metadata": {},
   "outputs": [
    {
     "data": {
      "text/plain": [
       "['./Datasets/lewandski',\n",
       " './Datasets/luca_modric',\n",
       " './Datasets/messi',\n",
       " './Datasets/neymar',\n",
       " './Datasets/ronaldo']"
      ]
     },
     "execution_count": 6,
     "metadata": {},
     "output_type": "execute_result"
    }
   ],
   "source": [
    "player_dirs"
   ]
  },
  {
   "cell_type": "code",
   "execution_count": 7,
   "metadata": {},
   "outputs": [],
   "source": [
    "import shutil\n",
    "\n",
    "if os.path.exists(path_to_cr_data):\n",
    "    shutil.rmtree(path_to_cr_data)\n",
    "os.mkdir(path_to_cr_data)"
   ]
  },
  {
   "cell_type": "code",
   "execution_count": 8,
   "metadata": {},
   "outputs": [
    {
     "name": "stdout",
     "output_type": "stream",
     "text": [
      "Generating cropped images in folder ./Datasets/cropped/lewandski\n",
      "Not an image\n",
      "Generating cropped images in folder ./Datasets/cropped/luca_modric\n",
      "Not an image\n",
      "Not an image\n",
      "Generating cropped images in folder ./Datasets/cropped/messi\n",
      "Generating cropped images in folder ./Datasets/cropped/neymar\n",
      "Not an image\n",
      "Generating cropped images in folder ./Datasets/cropped/ronaldo\n"
     ]
    }
   ],
   "source": [
    "cropped_img_dirs = []\n",
    "player_name_file = {}\n",
    "\n",
    "for dirs in player_dirs:\n",
    "\n",
    "    count = 1\n",
    "    player_name = dirs.split('/')[-1]\n",
    "    player_name_file[player_name] = []\n",
    "\n",
    "    for image in os.scandir(dirs):\n",
    "\n",
    "        roi_color = get_cropped_image_for_2_eyes(image.path)\n",
    "\n",
    "        if roi_color is not None:\n",
    "            cropped_folder = path_to_cr_data + player_name\n",
    "\n",
    "            if not os.path.exists(cropped_folder):\n",
    "                print('Generating cropped images in folder', cropped_folder)\n",
    "                os.mkdir(cropped_folder)\n",
    "\n",
    "            cropped_img_dirs.append(cropped_folder)\n",
    "\n",
    "            cropped_file_name = player_name + str(count) + \".png\"\n",
    "            cropped_file_path = cropped_folder + \"/\" + cropped_file_name\n",
    "\n",
    "            cv2.imwrite(cropped_file_path, roi_color)\n",
    "            player_name_file[player_name].append(cropped_file_path)\n",
    "            count += 1\n"
   ]
  },
  {
   "cell_type": "code",
   "execution_count": 10,
   "metadata": {},
   "outputs": [
    {
     "data": {
      "text/plain": [
       "{'lewandski': ['./Datasets/cropped/lewandski/lewandski1.png',\n",
       "  './Datasets/cropped/lewandski/lewandski2.png',\n",
       "  './Datasets/cropped/lewandski/lewandski3.png',\n",
       "  './Datasets/cropped/lewandski/lewandski4.png',\n",
       "  './Datasets/cropped/lewandski/lewandski5.png',\n",
       "  './Datasets/cropped/lewandski/lewandski6.png',\n",
       "  './Datasets/cropped/lewandski/lewandski7.png',\n",
       "  './Datasets/cropped/lewandski/lewandski8.png',\n",
       "  './Datasets/cropped/lewandski/lewandski9.png',\n",
       "  './Datasets/cropped/lewandski/lewandski10.png',\n",
       "  './Datasets/cropped/lewandski/lewandski11.png',\n",
       "  './Datasets/cropped/lewandski/lewandski12.png',\n",
       "  './Datasets/cropped/lewandski/lewandski13.png',\n",
       "  './Datasets/cropped/lewandski/lewandski14.png',\n",
       "  './Datasets/cropped/lewandski/lewandski15.png',\n",
       "  './Datasets/cropped/lewandski/lewandski16.png',\n",
       "  './Datasets/cropped/lewandski/lewandski17.png',\n",
       "  './Datasets/cropped/lewandski/lewandski18.png',\n",
       "  './Datasets/cropped/lewandski/lewandski19.png',\n",
       "  './Datasets/cropped/lewandski/lewandski20.png',\n",
       "  './Datasets/cropped/lewandski/lewandski21.png',\n",
       "  './Datasets/cropped/lewandski/lewandski22.png',\n",
       "  './Datasets/cropped/lewandski/lewandski23.png',\n",
       "  './Datasets/cropped/lewandski/lewandski24.png',\n",
       "  './Datasets/cropped/lewandski/lewandski25.png',\n",
       "  './Datasets/cropped/lewandski/lewandski26.png',\n",
       "  './Datasets/cropped/lewandski/lewandski27.png',\n",
       "  './Datasets/cropped/lewandski/lewandski28.png',\n",
       "  './Datasets/cropped/lewandski/lewandski29.png',\n",
       "  './Datasets/cropped/lewandski/lewandski30.png',\n",
       "  './Datasets/cropped/lewandski/lewandski31.png'],\n",
       " 'luca_modric': ['./Datasets/cropped/luca_modric/luca_modric1.png',\n",
       "  './Datasets/cropped/luca_modric/luca_modric2.png',\n",
       "  './Datasets/cropped/luca_modric/luca_modric3.png',\n",
       "  './Datasets/cropped/luca_modric/luca_modric4.png',\n",
       "  './Datasets/cropped/luca_modric/luca_modric5.png',\n",
       "  './Datasets/cropped/luca_modric/luca_modric6.png',\n",
       "  './Datasets/cropped/luca_modric/luca_modric7.png',\n",
       "  './Datasets/cropped/luca_modric/luca_modric8.png',\n",
       "  './Datasets/cropped/luca_modric/luca_modric9.png',\n",
       "  './Datasets/cropped/luca_modric/luca_modric10.png',\n",
       "  './Datasets/cropped/luca_modric/luca_modric11.png',\n",
       "  './Datasets/cropped/luca_modric/luca_modric12.png',\n",
       "  './Datasets/cropped/luca_modric/luca_modric13.png',\n",
       "  './Datasets/cropped/luca_modric/luca_modric14.png',\n",
       "  './Datasets/cropped/luca_modric/luca_modric15.png',\n",
       "  './Datasets/cropped/luca_modric/luca_modric16.png',\n",
       "  './Datasets/cropped/luca_modric/luca_modric17.png',\n",
       "  './Datasets/cropped/luca_modric/luca_modric18.png',\n",
       "  './Datasets/cropped/luca_modric/luca_modric19.png',\n",
       "  './Datasets/cropped/luca_modric/luca_modric20.png',\n",
       "  './Datasets/cropped/luca_modric/luca_modric21.png',\n",
       "  './Datasets/cropped/luca_modric/luca_modric22.png',\n",
       "  './Datasets/cropped/luca_modric/luca_modric23.png',\n",
       "  './Datasets/cropped/luca_modric/luca_modric24.png',\n",
       "  './Datasets/cropped/luca_modric/luca_modric25.png',\n",
       "  './Datasets/cropped/luca_modric/luca_modric26.png'],\n",
       " 'messi': ['./Datasets/cropped/messi/messi1.png',\n",
       "  './Datasets/cropped/messi/messi2.png',\n",
       "  './Datasets/cropped/messi/messi3.png',\n",
       "  './Datasets/cropped/messi/messi4.png',\n",
       "  './Datasets/cropped/messi/messi5.png',\n",
       "  './Datasets/cropped/messi/messi6.png',\n",
       "  './Datasets/cropped/messi/messi7.png',\n",
       "  './Datasets/cropped/messi/messi8.png',\n",
       "  './Datasets/cropped/messi/messi9.png',\n",
       "  './Datasets/cropped/messi/messi10.png',\n",
       "  './Datasets/cropped/messi/messi11.png',\n",
       "  './Datasets/cropped/messi/messi12.png',\n",
       "  './Datasets/cropped/messi/messi13.png',\n",
       "  './Datasets/cropped/messi/messi14.png',\n",
       "  './Datasets/cropped/messi/messi15.png',\n",
       "  './Datasets/cropped/messi/messi16.png',\n",
       "  './Datasets/cropped/messi/messi17.png',\n",
       "  './Datasets/cropped/messi/messi18.png',\n",
       "  './Datasets/cropped/messi/messi19.png',\n",
       "  './Datasets/cropped/messi/messi20.png',\n",
       "  './Datasets/cropped/messi/messi21.png',\n",
       "  './Datasets/cropped/messi/messi22.png',\n",
       "  './Datasets/cropped/messi/messi23.png',\n",
       "  './Datasets/cropped/messi/messi24.png',\n",
       "  './Datasets/cropped/messi/messi25.png',\n",
       "  './Datasets/cropped/messi/messi26.png',\n",
       "  './Datasets/cropped/messi/messi27.png',\n",
       "  './Datasets/cropped/messi/messi28.png',\n",
       "  './Datasets/cropped/messi/messi29.png',\n",
       "  './Datasets/cropped/messi/messi30.png',\n",
       "  './Datasets/cropped/messi/messi31.png',\n",
       "  './Datasets/cropped/messi/messi32.png',\n",
       "  './Datasets/cropped/messi/messi33.png',\n",
       "  './Datasets/cropped/messi/messi34.png',\n",
       "  './Datasets/cropped/messi/messi35.png',\n",
       "  './Datasets/cropped/messi/messi36.png',\n",
       "  './Datasets/cropped/messi/messi37.png',\n",
       "  './Datasets/cropped/messi/messi38.png'],\n",
       " 'neymar': ['./Datasets/cropped/neymar/neymar1.png',\n",
       "  './Datasets/cropped/neymar/neymar2.png',\n",
       "  './Datasets/cropped/neymar/neymar3.png',\n",
       "  './Datasets/cropped/neymar/neymar4.png',\n",
       "  './Datasets/cropped/neymar/neymar5.png',\n",
       "  './Datasets/cropped/neymar/neymar6.png',\n",
       "  './Datasets/cropped/neymar/neymar7.png',\n",
       "  './Datasets/cropped/neymar/neymar8.png',\n",
       "  './Datasets/cropped/neymar/neymar9.png',\n",
       "  './Datasets/cropped/neymar/neymar10.png',\n",
       "  './Datasets/cropped/neymar/neymar11.png',\n",
       "  './Datasets/cropped/neymar/neymar12.png',\n",
       "  './Datasets/cropped/neymar/neymar13.png',\n",
       "  './Datasets/cropped/neymar/neymar14.png',\n",
       "  './Datasets/cropped/neymar/neymar15.png',\n",
       "  './Datasets/cropped/neymar/neymar16.png',\n",
       "  './Datasets/cropped/neymar/neymar17.png',\n",
       "  './Datasets/cropped/neymar/neymar18.png',\n",
       "  './Datasets/cropped/neymar/neymar19.png',\n",
       "  './Datasets/cropped/neymar/neymar20.png',\n",
       "  './Datasets/cropped/neymar/neymar21.png',\n",
       "  './Datasets/cropped/neymar/neymar22.png',\n",
       "  './Datasets/cropped/neymar/neymar23.png',\n",
       "  './Datasets/cropped/neymar/neymar24.png'],\n",
       " 'ronaldo': ['./Datasets/cropped/ronaldo/ronaldo1.png',\n",
       "  './Datasets/cropped/ronaldo/ronaldo2.png',\n",
       "  './Datasets/cropped/ronaldo/ronaldo3.png',\n",
       "  './Datasets/cropped/ronaldo/ronaldo4.png',\n",
       "  './Datasets/cropped/ronaldo/ronaldo5.png',\n",
       "  './Datasets/cropped/ronaldo/ronaldo6.png',\n",
       "  './Datasets/cropped/ronaldo/ronaldo7.png',\n",
       "  './Datasets/cropped/ronaldo/ronaldo8.png',\n",
       "  './Datasets/cropped/ronaldo/ronaldo9.png',\n",
       "  './Datasets/cropped/ronaldo/ronaldo10.png',\n",
       "  './Datasets/cropped/ronaldo/ronaldo11.png',\n",
       "  './Datasets/cropped/ronaldo/ronaldo12.png',\n",
       "  './Datasets/cropped/ronaldo/ronaldo13.png',\n",
       "  './Datasets/cropped/ronaldo/ronaldo14.png',\n",
       "  './Datasets/cropped/ronaldo/ronaldo15.png',\n",
       "  './Datasets/cropped/ronaldo/ronaldo16.png',\n",
       "  './Datasets/cropped/ronaldo/ronaldo17.png',\n",
       "  './Datasets/cropped/ronaldo/ronaldo18.png',\n",
       "  './Datasets/cropped/ronaldo/ronaldo19.png',\n",
       "  './Datasets/cropped/ronaldo/ronaldo20.png',\n",
       "  './Datasets/cropped/ronaldo/ronaldo21.png',\n",
       "  './Datasets/cropped/ronaldo/ronaldo22.png',\n",
       "  './Datasets/cropped/ronaldo/ronaldo23.png',\n",
       "  './Datasets/cropped/ronaldo/ronaldo24.png',\n",
       "  './Datasets/cropped/ronaldo/ronaldo25.png',\n",
       "  './Datasets/cropped/ronaldo/ronaldo26.png',\n",
       "  './Datasets/cropped/ronaldo/ronaldo27.png',\n",
       "  './Datasets/cropped/ronaldo/ronaldo28.png',\n",
       "  './Datasets/cropped/ronaldo/ronaldo29.png',\n",
       "  './Datasets/cropped/ronaldo/ronaldo30.png',\n",
       "  './Datasets/cropped/ronaldo/ronaldo31.png',\n",
       "  './Datasets/cropped/ronaldo/ronaldo32.png',\n",
       "  './Datasets/cropped/ronaldo/ronaldo33.png']}"
      ]
     },
     "execution_count": 10,
     "metadata": {},
     "output_type": "execute_result"
    }
   ],
   "source": [
    "player_name_file"
   ]
  },
  {
   "cell_type": "markdown",
   "metadata": {},
   "source": [
    "Making a function to perform wavelet transformation which will give a feature image"
   ]
  },
  {
   "cell_type": "code",
   "execution_count": 11,
   "metadata": {},
   "outputs": [],
   "source": [
    "import pywt\n",
    "# I got this function from stack overflow\n",
    "def w2d(img, mode='haar', level=1):\n",
    "    imArray = img\n",
    "    #Datatype conversions\n",
    "    #convert to grayscale\n",
    "    imArray = cv2.cvtColor( imArray,cv2.COLOR_RGB2GRAY )\n",
    "    #convert to float\n",
    "    imArray =  np.float32(imArray)   \n",
    "    imArray /= 255;\n",
    "    # compute coefficients \n",
    "    coeffs=pywt.wavedec2(imArray, mode, level=level)\n",
    "\n",
    "    #Process Coefficients\n",
    "    coeffs_H=list(coeffs)  \n",
    "    coeffs_H[0] *= 0;  \n",
    "\n",
    "    # reconstruction\n",
    "    imArray_H=pywt.waverec2(coeffs_H, mode);\n",
    "    imArray_H *= 255;\n",
    "    imArray_H =  np.uint8(imArray_H)\n",
    "\n",
    "    return imArray_H"
   ]
  },
  {
   "cell_type": "markdown",
   "metadata": {},
   "source": [
    "Making X and Y feature for my model training"
   ]
  },
  {
   "cell_type": "code",
   "execution_count": 13,
   "metadata": {},
   "outputs": [
    {
     "data": {
      "text/plain": [
       "{'lewandski': 0, 'luca_modric': 1, 'messi': 2, 'neymar': 3, 'ronaldo': 4}"
      ]
     },
     "execution_count": 13,
     "metadata": {},
     "output_type": "execute_result"
    }
   ],
   "source": [
    "player_number = {}\n",
    "count = 0\n",
    "for aplayer in player_name_file.keys():\n",
    "    player_number[aplayer] = count\n",
    "    count += 1\n",
    "player_number"
   ]
  },
  {
   "cell_type": "code",
   "execution_count": 24,
   "metadata": {},
   "outputs": [],
   "source": [
    "X = []\n",
    "Y = []\n",
    "\n",
    "for player, png_img in player_name_file.items():\n",
    "    for png in png_img:\n",
    "        img = cv2.imread(png) #reading the image\n",
    "        if img is None: # Since I've deleted some images there will be error without this if statement\n",
    "            continue\n",
    "        scalled_img = cv2.resize(img, (32, 32)) #just to be safe with size issue i'm resizing this images\n",
    "        wavelet_img = w2d(img, 'db1', 5 )\n",
    "        scalled_wavelet_img = cv2.resize(wavelet_img, (32, 32)) # I need wavelet image in same size as the scalled image\n",
    "\n",
    "        combined_image = np.vstack((scalled_img.reshape(32*32*3,1), scalled_wavelet_img.reshape(32*32,1))) # I'm stacking those images vertically because I'll use both of them as input \n",
    "\n",
    "        X.append(combined_image) # these are the input features\n",
    "        Y.append(player_number[player]) # I need numbers for each player name to make an valid output for my model"
   ]
  },
  {
   "cell_type": "code",
   "execution_count": 28,
   "metadata": {},
   "outputs": [
    {
     "data": {
      "text/plain": [
       "4096"
      ]
     },
     "execution_count": 28,
     "metadata": {},
     "output_type": "execute_result"
    }
   ],
   "source": [
    "len(X[0])"
   ]
  },
  {
   "cell_type": "code",
   "execution_count": 30,
   "metadata": {},
   "outputs": [
    {
     "data": {
      "text/plain": [
       "(81, 4096)"
      ]
     },
     "execution_count": 30,
     "metadata": {},
     "output_type": "execute_result"
    }
   ],
   "source": [
    "X = np.array(X).reshape(len(X),4096).astype('float')\n",
    "X.shape"
   ]
  },
  {
   "cell_type": "code",
   "execution_count": 31,
   "metadata": {},
   "outputs": [
    {
     "data": {
      "text/plain": [
       "array([ 34.,  39.,  73., ...,  67., 176., 180.])"
      ]
     },
     "execution_count": 31,
     "metadata": {},
     "output_type": "execute_result"
    }
   ],
   "source": [
    "X[0]"
   ]
  },
  {
   "cell_type": "markdown",
   "metadata": {},
   "source": [
    "Creating the model"
   ]
  },
  {
   "cell_type": "code",
   "execution_count": 99,
   "metadata": {},
   "outputs": [],
   "source": [
    "from sklearn.svm import SVC\n",
    "from sklearn.model_selection import train_test_split, GridSearchCV, ShuffleSplit, cross_val_score\n",
    "from sklearn.metrics import classification_report\n",
    "from sklearn.preprocessing import StandardScaler\n",
    "from sklearn.pipeline import Pipeline"
   ]
  },
  {
   "cell_type": "code",
   "execution_count": 33,
   "metadata": {},
   "outputs": [],
   "source": [
    "x_train, x_test, y_train, y_test = train_test_split(X,Y, test_size=0.2, random_state=0)"
   ]
  },
  {
   "cell_type": "code",
   "execution_count": 94,
   "metadata": {},
   "outputs": [
    {
     "data": {
      "text/plain": [
       "0.8823529411764706"
      ]
     },
     "execution_count": 94,
     "metadata": {},
     "output_type": "execute_result"
    }
   ],
   "source": [
    "pipe = Pipeline([('scaler', StandardScaler()), ('model', SVC(kernel='linear', C=10))])\n",
    "pipe.fit(x_train,y_train)\n",
    "pipe.score(x_test,y_test)"
   ]
  },
  {
   "cell_type": "code",
   "execution_count": 98,
   "metadata": {},
   "outputs": [
    {
     "data": {
      "text/plain": [
       "0.5166666666666667"
      ]
     },
     "execution_count": 98,
     "metadata": {},
     "output_type": "execute_result"
    }
   ],
   "source": [
    "cross_val_score(pipe, x_train, y_train).mean()"
   ]
  },
  {
   "cell_type": "code",
   "execution_count": 39,
   "metadata": {},
   "outputs": [
    {
     "name": "stdout",
     "output_type": "stream",
     "text": [
      "              precision    recall  f1-score   support\n",
      "\n",
      "           0       0.50      1.00      0.67         1\n",
      "           1       1.00      0.50      0.67         2\n",
      "           2       0.83      1.00      0.91         5\n",
      "           3       1.00      1.00      1.00         5\n",
      "           4       1.00      0.75      0.86         4\n",
      "\n",
      "    accuracy                           0.88        17\n",
      "   macro avg       0.87      0.85      0.82        17\n",
      "weighted avg       0.92      0.88      0.88        17\n",
      "\n"
     ]
    }
   ],
   "source": [
    "print(classification_report(y_test, pipe.predict(x_test)))"
   ]
  },
  {
   "cell_type": "markdown",
   "metadata": {},
   "source": [
    "SVM was a test model. now I'll find the best model using gridsearch"
   ]
  },
  {
   "cell_type": "code",
   "execution_count": 106,
   "metadata": {},
   "outputs": [],
   "source": [
    "from sklearn.ensemble import RandomForestClassifier\n",
    "from sklearn.linear_model import LogisticRegression\n",
    "from sklearn.tree import DecisionTreeClassifier\n",
    "from sklearn.naive_bayes import MultinomialNB, GaussianNB"
   ]
  },
  {
   "cell_type": "code",
   "execution_count": 109,
   "metadata": {},
   "outputs": [],
   "source": [
    "model_params = {\n",
    "    'svm': {\n",
    "        'model': SVC(kernel='linear'),\n",
    "        'params' : {\n",
    "            'svm__C': [1,10,100,1000],\n",
    "        }  \n",
    "    },\n",
    "    'random_forest': {\n",
    "        'model': RandomForestClassifier(),\n",
    "        'params' : {\n",
    "            'random_forest__n_estimators': [10,40,50]\n",
    "        }\n",
    "    },\n",
    "    'logistic_regression' : {\n",
    "        'model': LogisticRegression(),\n",
    "        'params': {\n",
    "            'logistic_regression__C': [1,5,10]\n",
    "        }\n",
    "    },\n",
    "    'naive_bayes_gaussian': {\n",
    "        'model': GaussianNB(),\n",
    "        'params': {}\n",
    "    },\n",
    "    'decision_tree': {\n",
    "        'model': DecisionTreeClassifier(),\n",
    "        'params': {\n",
    "            'decision_tree__criterion': ['gini','entropy'],\n",
    "            \n",
    "        }\n",
    "    } \n",
    "}"
   ]
  },
  {
   "cell_type": "code",
   "execution_count": 110,
   "metadata": {},
   "outputs": [
    {
     "data": {
      "text/html": [
       "<div>\n",
       "<style scoped>\n",
       "    .dataframe tbody tr th:only-of-type {\n",
       "        vertical-align: middle;\n",
       "    }\n",
       "\n",
       "    .dataframe tbody tr th {\n",
       "        vertical-align: top;\n",
       "    }\n",
       "\n",
       "    .dataframe thead th {\n",
       "        text-align: right;\n",
       "    }\n",
       "</style>\n",
       "<table border=\"1\" class=\"dataframe\">\n",
       "  <thead>\n",
       "    <tr style=\"text-align: right;\">\n",
       "      <th></th>\n",
       "      <th>model</th>\n",
       "      <th>best_score</th>\n",
       "      <th>best_params</th>\n",
       "    </tr>\n",
       "  </thead>\n",
       "  <tbody>\n",
       "    <tr>\n",
       "      <th>0</th>\n",
       "      <td>svm</td>\n",
       "      <td>0.553846</td>\n",
       "      <td>{'svm__C': 1}</td>\n",
       "    </tr>\n",
       "    <tr>\n",
       "      <th>1</th>\n",
       "      <td>random_forest</td>\n",
       "      <td>0.461538</td>\n",
       "      <td>{'random_forest__n_estimators': 50}</td>\n",
       "    </tr>\n",
       "    <tr>\n",
       "      <th>2</th>\n",
       "      <td>logistic_regression</td>\n",
       "      <td>0.584615</td>\n",
       "      <td>{'logistic_regression__C': 1}</td>\n",
       "    </tr>\n",
       "    <tr>\n",
       "      <th>3</th>\n",
       "      <td>naive_bayes_gaussian</td>\n",
       "      <td>0.369231</td>\n",
       "      <td>{}</td>\n",
       "    </tr>\n",
       "    <tr>\n",
       "      <th>4</th>\n",
       "      <td>decision_tree</td>\n",
       "      <td>0.338462</td>\n",
       "      <td>{'decision_tree__criterion': 'gini'}</td>\n",
       "    </tr>\n",
       "  </tbody>\n",
       "</table>\n",
       "</div>"
      ],
      "text/plain": [
       "                  model  best_score                           best_params\n",
       "0                   svm    0.553846                         {'svm__C': 1}\n",
       "1         random_forest    0.461538   {'random_forest__n_estimators': 50}\n",
       "2   logistic_regression    0.584615         {'logistic_regression__C': 1}\n",
       "3  naive_bayes_gaussian    0.369231                                    {}\n",
       "4         decision_tree    0.338462  {'decision_tree__criterion': 'gini'}"
      ]
     },
     "execution_count": 110,
     "metadata": {},
     "output_type": "execute_result"
    }
   ],
   "source": [
    "import pandas as pd\n",
    "\n",
    "cvgrd = ShuffleSplit(n_splits=5, test_size=0.2, random_state=0)\n",
    "scores = []\n",
    "best_estimators = {}\n",
    "for algo, mp in model_params.items():\n",
    "    pipe2 = Pipeline([('scaler', StandardScaler()),(algo, mp['model'])]) # here the pipeline method is name sensitive.. look at the dictionary\n",
    "    clf =  GridSearchCV(pipe2, mp['params'], cv=cvgrd, return_train_score=False)\n",
    "    clf.fit(x_train, y_train)\n",
    "    scores.append({\n",
    "        'model': algo,\n",
    "        'best_score': clf.best_score_,\n",
    "        'best_params': clf.best_params_\n",
    "    })\n",
    "    best_estimators[algo] = clf.best_estimator_\n",
    "    \n",
    "df = pd.DataFrame(scores,columns=['model','best_score','best_params'])\n",
    "df"
   ]
  },
  {
   "cell_type": "code",
   "execution_count": 92,
   "metadata": {},
   "outputs": [
    {
     "data": {
      "text/plain": [
       "0.8823529411764706"
      ]
     },
     "execution_count": 92,
     "metadata": {},
     "output_type": "execute_result"
    }
   ],
   "source": [
    "best_estimators['svm'].score(x_test,y_test)"
   ]
  },
  {
   "cell_type": "code",
   "execution_count": 104,
   "metadata": {},
   "outputs": [
    {
     "data": {
      "text/plain": [
       "0.6470588235294118"
      ]
     },
     "execution_count": 104,
     "metadata": {},
     "output_type": "execute_result"
    }
   ],
   "source": [
    "best_estimators['random_forest'].score(x_test,y_test)"
   ]
  },
  {
   "cell_type": "code",
   "execution_count": 93,
   "metadata": {},
   "outputs": [
    {
     "data": {
      "text/plain": [
       "0.8823529411764706"
      ]
     },
     "execution_count": 93,
     "metadata": {},
     "output_type": "execute_result"
    }
   ],
   "source": [
    "best_estimators['logistic_regression'].score(x_test,y_test)"
   ]
  },
  {
   "cell_type": "markdown",
   "metadata": {},
   "source": [
    "Here the winner is Logistic regression and svm. So I can use any of them. I'll go with svm"
   ]
  },
  {
   "cell_type": "code",
   "execution_count": 112,
   "metadata": {},
   "outputs": [],
   "source": [
    "from sklearn.metrics import confusion_matrix\n",
    "\n",
    "best_clf = best_estimators['svm']\n",
    "cm = confusion_matrix(y_test, best_clf.predict(x_test))"
   ]
  },
  {
   "cell_type": "code",
   "execution_count": 113,
   "metadata": {},
   "outputs": [
    {
     "data": {
      "text/plain": [
       "Text(95.72222222222221, 0.5, 'Truth')"
      ]
     },
     "execution_count": 113,
     "metadata": {},
     "output_type": "execute_result"
    },
    {
     "data": {
      "image/png": "[encoded data removed]",
      "text/plain": [
       "<Figure size 1000x700 with 2 Axes>"
      ]
     },
     "metadata": {},
     "output_type": "display_data"
    }
   ],
   "source": [
    "import seaborn as sn\n",
    "plt.figure(figsize = (10,7))\n",
    "sn.heatmap(cm, annot=True)\n",
    "plt.xlabel('Predicted')\n",
    "plt.ylabel('Truth')"
   ]
  },
  {
   "cell_type": "code",
   "execution_count": 114,
   "metadata": {},
   "outputs": [
    {
     "data": {
      "text/plain": [
       "['model.pkl']"
      ]
     },
     "execution_count": 114,
     "metadata": {},
     "output_type": "execute_result"
    }
   ],
   "source": [
    "import joblib\n",
    "joblib.dump(best_clf, 'model.pkl')"
   ]
  },
  {
   "cell_type": "code",
   "execution_count": 115,
   "metadata": {},
   "outputs": [],
   "source": [
    "import json\n",
    "with open(\"player_dictionary.json\",\"w\") as f:\n",
    "    f.write(json.dumps(player_number))"
   ]
  }
 ],
 "metadata": {
  "kernelspec": {
   "display_name": "Python 3",
   "language": "python",
   "name": "python3"
  },
  "language_info": {
   "codemirror_mode": {
    "name": "ipython",
    "version": 3
   },
   "file_extension": ".py",
   "mimetype": "text/x-python",
   "name": "python",
   "nbconvert_exporter": "python",
   "pygments_lexer": "ipython3",
   "version": "3.12.2"
  }
 },
 "nbformat": 4,
 "nbformat_minor": 2
}
